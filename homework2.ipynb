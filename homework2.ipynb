{
  "nbformat": 4,
  "nbformat_minor": 0,
  "metadata": {
    "colab": {
      "provenance": [],
      "authorship_tag": "ABX9TyMTi30nBr9peehDs22px8rV",
      "include_colab_link": true
    },
    "kernelspec": {
      "name": "python3",
      "display_name": "Python 3"
    },
    "language_info": {
      "name": "python"
    }
  },
  "cells": [
    {
      "cell_type": "markdown",
      "metadata": {
        "id": "view-in-github",
        "colab_type": "text"
      },
      "source": [
        "<a href=\"https://colab.research.google.com/github/nareohanyan/Python--homework/blob/main/homework2.ipynb\" target=\"_parent\"><img src=\"https://colab.research.google.com/assets/colab-badge.svg\" alt=\"Open In Colab\"/></a>"
      ]
    },
    {
      "cell_type": "markdown",
      "source": [
        "## Task 1\n"
      ],
      "metadata": {
        "id": "xUKh1AlyBBEv"
      }
    },
    {
      "cell_type": "markdown",
      "source": [
        "Prove, that A ∩ (B \\ C) = (A ∩ B) \\ (A ∩ C), where A, B and C are sets of numbers. Show that on an example."
      ],
      "metadata": {
        "id": "z1sRIX3cBH0-"
      }
    },
    {
      "cell_type": "code",
      "execution_count": 6,
      "metadata": {
        "colab": {
          "base_uri": "https://localhost:8080/"
        },
        "id": "2NNocuniA9l1",
        "outputId": "3cf33340-7c28-4137-fd87-b4b0f8b77d0a"
      },
      "outputs": [
        {
          "output_type": "stream",
          "name": "stdout",
          "text": [
            "A ∩ (B \\ C) = {6}\n",
            "(A ∩ B) \\ (A ∩ C) = {6}\n",
            "The statement is true: A ∩ (B \\ C) = (A ∩ B) \\ (A ∩ C)\n"
          ]
        }
      ],
      "source": [
        "#A ∩ (B \\ C) = (A ∩ B) \\ (A ∩ C)\n",
        "A={5,6,7,8}\n",
        "B ={6,7,9}\n",
        "C={7,8}\n",
        "\n",
        "leftSide = A.intersection(B.difference(C));\n",
        "rightSide = A.intersection(B).difference(A.intersection(C))\n",
        "\n",
        "if leftSide == rightSide:\n",
        "  print(\"A ∩ (B \\ C) =\", leftSide)\n",
        "  print(\"(A ∩ B) \\ (A ∩ C) =\", rightSide)\n",
        "  print(\"The statement is true: A ∩ (B \\ C) = (A ∩ B) \\ (A ∩ C)\")\n",
        ""
      ]
    },
    {
      "cell_type": "markdown",
      "source": [
        "##Task 2"
      ],
      "metadata": {
        "id": "EajDImRmHxsQ"
      }
    },
    {
      "cell_type": "markdown",
      "source": [
        "You have a list, that consists of letters. As an input you will get a list, a letter and a number N. Find how many times that letter goes N times in a row.\n",
        "\n",
        "Example:\n",
        "\n",
        "Input: [\"n\", \"f\", \"t\", \"a\", \"a\", \"a\", \"a\", \"a\", \"t\", \"t\", \"y\", \"y\", \"e\", \"a\", \"a\", \"t\", \"a\", \"a\", \"a\", \"a\"],\n",
        "\n",
        "\"a\",\n",
        "\n",
        "3\n",
        "\n",
        "Output: 5"
      ],
      "metadata": {
        "id": "-uSo4Ze0H0i1"
      }
    },
    {
      "cell_type": "code",
      "source": [
        "letters = list(input())\n",
        "targetLetter = input()\n",
        "N = int(input())\n",
        "\n",
        "count = 0\n",
        "consecutiveCount = 0\n",
        "\n",
        "for letter in range(len(letters)):\n",
        "  if letters[letter] == targetLetter:\n",
        "    consecutiveCount += 1\n",
        "    if consecutiveCount >= N:\n",
        "      count += 1\n",
        "  else:\n",
        "    consecutiveCount = 0\n",
        "\n",
        "print(count)\n"
      ],
      "metadata": {
        "colab": {
          "base_uri": "https://localhost:8080/"
        },
        "id": "23nFfTHYH4j1",
        "outputId": "1258bc68-0056-48cd-e03e-ef40e055e076"
      },
      "execution_count": 19,
      "outputs": [
        {
          "output_type": "stream",
          "name": "stdout",
          "text": [
            "nftaaaaattyyeaataaaa\n",
            "a\n",
            "3\n",
            "5\n"
          ]
        }
      ]
    },
    {
      "cell_type": "markdown",
      "source": [
        "##Task 3\n"
      ],
      "metadata": {
        "id": "z-vdnMRxZFfF"
      }
    },
    {
      "cell_type": "markdown",
      "source": [
        "Write a Python program to find all the anagrams (an anagram is a word or phrase that's formed by rearranging the letters of another word or phrase) in a given list of strings and then group them together.\n",
        "\n",
        "Example:\n",
        "\n",
        "Input: ['eat', 'cba', 'tae', 'abc', 'xyz']\n",
        "\n",
        "Output: [['eat', 'tae'], ['cba', 'abc'], ['xyz']]"
      ],
      "metadata": {
        "id": "q3oN128aZHok"
      }
    },
    {
      "cell_type": "code",
      "source": [
        "input_words = ['eat', 'cba', 'tae', 'abc', 'xyz']\n",
        "\n",
        "anagrams = {}\n",
        "\n",
        "for i in input_words:\n",
        "  key = ''.join(sorted(i))\n",
        "\n",
        "  if key in anagrams:\n",
        "    anagrams[key].append(i)\n",
        "  else:\n",
        "    anagrams[key] = [i]\n",
        "\n",
        "result = list(anagrams.values())\n",
        "print(result)"
      ],
      "metadata": {
        "colab": {
          "base_uri": "https://localhost:8080/"
        },
        "id": "TlegcBz0Yapz",
        "outputId": "7a80354f-0557-47d1-8ae3-0db16441dad3"
      },
      "execution_count": 27,
      "outputs": [
        {
          "output_type": "stream",
          "name": "stdout",
          "text": [
            "[['eat', 'tae'], ['cba', 'abc'], ['xyz']]\n"
          ]
        }
      ]
    },
    {
      "cell_type": "markdown",
      "source": [
        "##Task 4\n"
      ],
      "metadata": {
        "id": "Ez8PZwmQai8o"
      }
    },
    {
      "cell_type": "markdown",
      "source": [
        "Seven different symbols represent Roman numerals with the following values:\n",
        "\n",
        "I: 1, V: 5, X: 10, L: 50, C: 100, D: 500, M: 1000\n",
        "\n",
        "Roman numerals are formed by appending the conversions of decimal place values from highest to lowest. Converting a decimal place value into a Roman numeral has the following rules:\n",
        "\n",
        "If the value does not start with 4 or 9, select the symbol of the maximal value that can be subtracted from the input, append that symbol to the result, subtract its value, and convert the remainder to a Roman numeral.\n",
        "If the value starts with 4 or 9 use the subtractive form representing one symbol subtracted from the following symbol, for example, 4 is 1 (I) less than 5 (V): IV and 9 is 1 (I) less than 10 (X): IX. Only the following subtractive forms are used: 4 (IV), 9 (IX), 40 (XL), 90 (XC), 400 (CD) and 900 (CM).\n",
        "Only powers of 10 (I, X, C, M) can be appended consecutively at most 3 times to represent multiples of 10. You cannot append 5 (V), 50 (L), or 500 (D) multiple times. If you need to append a symbol 4 times use the subtractive form. If the number is higher then 1000, then just append the amount of M's you need.\n",
        "Given an integer, convert it to a Roman numeral.\n",
        "\n",
        "You are not allowed to use anything we haven't discuss on the lections.\n",
        "\n",
        "Example\n",
        "\n",
        "Input: 3749\n",
        "\n",
        "Output: MMMDCCXLIX"
      ],
      "metadata": {
        "id": "S78Fpf0NakvM"
      }
    },
    {
      "cell_type": "code",
      "source": [],
      "metadata": {
        "id": "JJq7wevRazBr"
      },
      "execution_count": null,
      "outputs": []
    },
    {
      "cell_type": "markdown",
      "source": [
        "##Homework"
      ],
      "metadata": {
        "id": "LM08pNyzaz-U"
      }
    },
    {
      "cell_type": "markdown",
      "source": [
        "A valid IP address consists of exactly four integers separated by single dots. Each integer is between 0 and 255 (inclusive) and cannot have leading zeros.\n",
        "\n",
        "For example, \"0.1.2.201\" and \"192.168.1.1\" are valid IP addresses, but \"0.011.255.245\", \"192.168.1.312\" and \"192.168@1.1\" are invalid IP addresses.\n",
        "\n",
        "Given a string s containing only digits, return all possible valid IP addresses that can be formed by inserting dots into s. You are not allowed to reorder or remove any digits in s. You may return the valid IP addresses in any order. If there are no possible IPs, return -1.\n",
        "\n",
        "You are not allowed to use anything we haven't discuss on the lections.\n",
        "\n",
        "Example\n",
        "\n",
        "Input: 101023\n",
        "\n",
        "Output: [\"1.0.10.23\", \"1.0.102.3\", \"10.1.0.23\", \"10.10.2.3\", \"101.0.2.3\"]"
      ],
      "metadata": {
        "id": "liznGNhJa16T"
      }
    },
    {
      "cell_type": "code",
      "source": [
        "digit_str = input()\n",
        "res = []\n",
        "\n",
        "if len(digit_str) > 12:\n",
        "  print(-1)\n",
        "else:\n",
        "  n = len(digit_str)\n",
        "\n",
        "  for i in range (1 << (n - 1)): #2^n-1\n",
        "    dots = 0\n",
        "    current_ip = \"\"\n",
        "\n",
        "    for j in range(n):\n",
        "      current_ip += digit_str[j]\n",
        "\n",
        "      if j < n - 1:\n",
        "        if(i & (1 << j)) != 0:\n",
        "          current_ip += \".\"\n",
        "          dots += 1\n",
        "\n",
        "    parts = current_ip.split('.')\n",
        "\n",
        "    if len(parts) == 4:\n",
        "      valid = True\n",
        "\n",
        "      for i in parts:\n",
        "        if not (i.isdigit() and 0 <= int(i) <= 255 and (len(i) == 1 or i[0] != '0')):\n",
        "          valid = False\n",
        "          break\n",
        "\n",
        "      if valid:\n",
        "        res.append(current_ip)\n",
        "\n",
        "print(res)"
      ],
      "metadata": {
        "colab": {
          "base_uri": "https://localhost:8080/"
        },
        "id": "-MzDbD2EeoXT",
        "outputId": "3ccf69ea-1ba1-44c0-aff3-d59f9cbd190e"
      },
      "execution_count": 23,
      "outputs": [
        {
          "output_type": "stream",
          "name": "stdout",
          "text": [
            "255255255255\n",
            "['255.255.255.255']\n"
          ]
        }
      ]
    },
    {
      "cell_type": "code",
      "source": [],
      "metadata": {
        "id": "iFjsm3TamLAF"
      },
      "execution_count": null,
      "outputs": []
    }
  ]
}