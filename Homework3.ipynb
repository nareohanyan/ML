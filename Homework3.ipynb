{
  "nbformat": 4,
  "nbformat_minor": 0,
  "metadata": {
    "colab": {
      "provenance": [],
      "include_colab_link": true
    },
    "kernelspec": {
      "name": "python3",
      "display_name": "Python 3"
    },
    "language_info": {
      "name": "python"
    }
  },
  "cells": [
    {
      "cell_type": "markdown",
      "metadata": {
        "id": "view-in-github",
        "colab_type": "text"
      },
      "source": [
        "<a href=\"https://colab.research.google.com/github/nareohanyan/Python--homework/blob/main/Homework3.ipynb\" target=\"_parent\"><img src=\"https://colab.research.google.com/assets/colab-badge.svg\" alt=\"Open In Colab\"/></a>"
      ]
    },
    {
      "cell_type": "markdown",
      "source": [
        "## Task 1"
      ],
      "metadata": {
        "id": "WR81ASB1TEw-"
      }
    },
    {
      "cell_type": "markdown",
      "source": [
        "You need to write a function that accepts an encoded string as a parameter. This string will contain a first name, last name, and an id. Values in the string can be separated by any number of zeros. The id is a numeric value but will contain no zeros. The function should parse the string and return a Python dictionary that contains the first name, last name, and id values.\n",
        "\n",
        "Example:\n",
        "\n",
        "Input: Robert000Smith000123\n",
        "\n",
        "Output: { “first_name”: “Robert”, “last_name”: “Smith”, “id”: “123” }"
      ],
      "metadata": {
        "id": "YKgMK1UETF3D"
      }
    },
    {
      "cell_type": "code",
      "source": [
        "def separater(encodedString):\n",
        "    parts = list(filter(None, encodedString.split('0')))\n",
        "\n",
        "    output = {\n",
        "        'first_name': None,\n",
        "        'last_name': None,\n",
        "        'id': None\n",
        "    }\n",
        "\n",
        "    if len(parts) >= 3:\n",
        "        output['first_name'] = parts[0]\n",
        "        output['last_name'] = parts[1]\n",
        "        output['id'] = parts[2]\n",
        "\n",
        "    return output\n",
        "\n",
        "input_string = \"Robert000Smith000123\"\n",
        "result = separater(input_string)\n",
        "\n",
        "print(result)"
      ],
      "metadata": {
        "id": "7RFj1eXcTF76",
        "colab": {
          "base_uri": "https://localhost:8080/"
        },
        "outputId": "dd8bcd04-4497-40a2-f9a7-abf2c1ca2fe9"
      },
      "execution_count": 1,
      "outputs": [
        {
          "output_type": "stream",
          "name": "stdout",
          "text": [
            "{'first_name': 'Robert', 'last_name': 'Smith', 'id': '123'}\n"
          ]
        }
      ]
    },
    {
      "cell_type": "markdown",
      "source": [
        "## Task 2"
      ],
      "metadata": {
        "id": "decO1w4rW3vD"
      }
    },
    {
      "cell_type": "markdown",
      "source": [
        "A retailer is having a store-wide \"buy 2, get 1 free\" sale. So for every 3 products you buy, the cheapest one is free (if you buy 6 products, you get the 2 cheapest for free). But the retailer can't write 0$ in his check, so instead it writes down as a discount for all the products you bought. Write a function to print out those checks.\n",
        "\n",
        "Example:\n",
        "\n",
        "Input: [15.99, 23.50, 10.75]\n",
        "\n",
        "Output: [12.57, 18.47, 8.45]\n",
        "\n",
        "Explanation:\n",
        "\n",
        "\n",
        "Product A: 15.99\n",
        "\n",
        "Product B: 23.50\n",
        "\n",
        "Product C: 10.75\n",
        "\n",
        "You get the cheapest one for free, so you end up paying 15.99 + 23.50 = 39.49, but what your receipt says is:\n",
        "\n",
        "Product A: 15.99 - Special Discount = 12.57\n",
        "\n",
        "Product B: 23.50 - Special Discount = 18.47\n",
        "\n",
        "Product C: 10.75 - Special Discount = 8.45\n",
        "\n",
        "Total: 39.49"
      ],
      "metadata": {
        "id": "zn_yrfRHW4i9"
      }
    },
    {
      "cell_type": "code",
      "source": [
        "def specialDiscount(productList):\n",
        "  cheapestProduct = min(productList)\n",
        "\n",
        "  amount = sum(productList)\n",
        "\n",
        "  discountPercent = cheapestProduct / amount\n",
        "\n",
        "  for i in range(len(productList)):\n",
        "    productList[i] = round(productList[i]*(1 - discountPercent),2)\n",
        "\n",
        "  return productList\n",
        "\n",
        "productPrices = [15.99, 23.5, 10.75]\n",
        "result = specialDiscount(productPrices)\n",
        "\n",
        "print(result)"
      ],
      "metadata": {
        "id": "JuB9qfdFApAz",
        "colab": {
          "base_uri": "https://localhost:8080/"
        },
        "outputId": "ce93d392-34ca-419a-94c0-e0c01568afb3"
      },
      "execution_count": 2,
      "outputs": [
        {
          "output_type": "stream",
          "name": "stdout",
          "text": [
            "[12.57, 18.47, 8.45]\n"
          ]
        }
      ]
    },
    {
      "cell_type": "markdown",
      "source": [
        "## Task 3"
      ],
      "metadata": {
        "id": "LJNT9-PVUARn"
      }
    },
    {
      "cell_type": "markdown",
      "source": [
        "Create a function that returns the simplified version of a fraction.\n",
        "\n",
        "Example:\n",
        "\n",
        "Input: 100/400\n",
        "\n",
        "Output: 1/4\n",
        "\n",
        "Hint: You need to write 2 functions."
      ],
      "metadata": {
        "id": "JlAfn35DUBIR"
      }
    },
    {
      "cell_type": "code",
      "source": [
        "from fractions import Fraction\n",
        "\n",
        "def gcd(num1, num2):\n",
        "  if num2 == 0:\n",
        "    return num1\n",
        "  else:\n",
        "    return gcd(num2, num1 % num2)\n",
        "\n",
        "def simplify(num1, num2):\n",
        "  commonDiviser = gcd(num1, num2)\n",
        "\n",
        "  num1 = num1 // commonDiviser\n",
        "  num2 = num2 // commonDiviser\n",
        "\n",
        "  return Fraction(num1, num2)\n",
        "\n",
        "\n",
        "num1 = 100\n",
        "num2 = 400\n",
        "\n",
        "result = simplify(num1, num2)\n",
        "\n",
        "print(result)"
      ],
      "metadata": {
        "id": "3Ok7CUYSUBL8",
        "colab": {
          "base_uri": "https://localhost:8080/"
        },
        "outputId": "30964beb-b670-4883-c292-b59ca7c8e3b0"
      },
      "execution_count": 7,
      "outputs": [
        {
          "output_type": "stream",
          "name": "stdout",
          "text": [
            "1/4\n"
          ]
        }
      ]
    },
    {
      "cell_type": "markdown",
      "source": [
        "## Homework"
      ],
      "metadata": {
        "id": "f3CI-H7MY8qA"
      }
    },
    {
      "cell_type": "markdown",
      "source": [
        "### Task 1"
      ],
      "metadata": {
        "id": "5FmTeipO2Z8H"
      }
    },
    {
      "cell_type": "markdown",
      "source": [
        "Write a function that groups a string into parentheses clusters. Each cluster should be balanced (every opening parens `(` must exist with its matching closing parens `)` in the same cluster).\n",
        "\n",
        "Example:\n",
        "\n",
        "Input: \"((()))(())()()(()())\"\n",
        "\n",
        "Output: [\"((()))\", \"(())\", \"()\", \"()\", \"(()())\"]"
      ],
      "metadata": {
        "id": "NpUfpO4O2bGg"
      }
    },
    {
      "cell_type": "code",
      "source": [
        "def groupParentheses(expression):\n",
        "  stack = []\n",
        "  clusters = []\n",
        "  current = ''\n",
        "\n",
        "  for i in expression:\n",
        "    current += i\n",
        "\n",
        "    if i == '(':\n",
        "      stack.append(i)\n",
        "\n",
        "    if i == ')':\n",
        "      stack.pop()\n",
        "\n",
        "    if not stack:\n",
        "      clusters.append(current)\n",
        "      current = ''\n",
        "\n",
        "  return clusters\n",
        "\n",
        "expression = \"((()))(())()()(()())\"\n",
        "result = groupParentheses(expression)\n",
        "\n",
        "print(result)\n"
      ],
      "metadata": {
        "id": "BBDYNMJO2bRy",
        "colab": {
          "base_uri": "https://localhost:8080/"
        },
        "outputId": "077f5518-bd29-475d-da20-fe5364b5048f"
      },
      "execution_count": 25,
      "outputs": [
        {
          "output_type": "stream",
          "name": "stdout",
          "text": [
            "['((()))', '(())', '()', '()', '(()())']\n"
          ]
        }
      ]
    },
    {
      "cell_type": "markdown",
      "source": [
        "### Task 2"
      ],
      "metadata": {
        "id": "uk2imR87-Vy4"
      }
    },
    {
      "cell_type": "markdown",
      "source": [
        "Given a 3x3 matrix of a completed tic-tac-toe game, create a function that returns whether the game is a win for \"X\", \"O\", or a \"Draw\", where \"X\" and \"O\" represent themselves on the matrix, and \"E\" represents an empty spot. You are allowed to create multiple functions if needed.\n",
        "\n",
        "Example:\n",
        "\n",
        "Input:\n",
        "\n",
        "[\n",
        "  [\"X\", \"O\", \"X\"],\n",
        "\n",
        "  [\"O\", \"X\",  \"O\"],\n",
        "\n",
        "  [\"O\", \"E\",  \"X\"]\n",
        "]\n",
        "\n",
        "Output: \"X\""
      ],
      "metadata": {
        "id": "nPGh17YL-Wtg"
      }
    },
    {
      "cell_type": "code",
      "source": [
        "def ticTacToe(field):\n",
        "  for row in field:\n",
        "    if row[0] == row[1] == row[2] and row[0]  != 'E':\n",
        "      return row[0]\n",
        "\n",
        "  for column in range(3):\n",
        "    if field[0][column] == field[1][column] == field[2][column] and field[0][column] != 'E':\n",
        "      return field[0][column];\n",
        "\n",
        "  if field[0][0] == field[1][1] == field[2][2] and field[0][0] != 'E':\n",
        "    return field[0][0]\n",
        "\n",
        "  if field[0][2] == field[1][1] == field[2][0] and field[0][2] != 'E':\n",
        "    return field[0][2]\n",
        "\n",
        "  return 'Draw'\n",
        "\n",
        "\n",
        "field = [\n",
        "  [\"X\", \"O\", \"X\"],\n",
        "\n",
        "  [\"O\", \"X\",  \"O\"],\n",
        "\n",
        "  [\"O\", \"E\",  \"X\"]\n",
        "]\n",
        "\n",
        "result = ticTacToe(field)\n",
        "\n",
        "print(result)\n"
      ],
      "metadata": {
        "id": "eWx3vBKn-WxB",
        "colab": {
          "base_uri": "https://localhost:8080/"
        },
        "outputId": "214b5b45-de77-4ff4-9e91-546fa3b43347"
      },
      "execution_count": 35,
      "outputs": [
        {
          "output_type": "stream",
          "name": "stdout",
          "text": [
            "X\n"
          ]
        }
      ]
    },
    {
      "cell_type": "markdown",
      "source": [
        "### Task 3"
      ],
      "metadata": {
        "id": "xNGs76zvMI0i"
      }
    },
    {
      "cell_type": "markdown",
      "source": [
        "Given a series of lists, with each individual list containing the time of the alarm set and the sleep duration, return what time to sleep.\n",
        "\n",
        "Example:\n",
        "\n",
        "Input: [[\"06:15\", \"10:00\"], [\"08:00\", \"10:00\"], [\"09:30\", \"10:00\"]]\n",
        "\n",
        "Output: [\"20:15\", \"22:00\", \"23:30\"]"
      ],
      "metadata": {
        "id": "MKrHuaZYMJzN"
      }
    },
    {
      "cell_type": "code",
      "source": [
        "def timeToSleep(timeList):\n",
        "  sleepTime = []\n",
        "\n",
        "  for alarmTime, sleepDuration in timeList:\n",
        "    alarmHour, alarmMinute = map(int, alarmTime.split(':'))\n",
        "    durationHour, durationMinute = map(int, sleepDuration.split(':'))\n",
        "\n",
        "    sleepHour = alarmHour - durationHour\n",
        "    sleepMinute = alarmMinute - durationMinute\n",
        "\n",
        "    if sleepHour < 0:\n",
        "      sleepHour += 24\n",
        "\n",
        "    if sleepMinute < 0:\n",
        "      sleepMinute += 60\n",
        "      sleepHour -= 1\n",
        "\n",
        "    timeFormat = f\"{sleepHour:02}:{sleepMinute:02}\"\n",
        "    sleepTime.append(timeFormat)\n",
        "  return sleepTime\n",
        "\n",
        "timeList = [[\"06:15\", \"10:00\"], [\"08:00\", \"10:00\"], [\"09:30\", \"10:00\"]]\n",
        "result = timeToSleep(timeList)\n",
        "\n",
        "print(result)"
      ],
      "metadata": {
        "id": "AdgiNTBXMJ6W",
        "colab": {
          "base_uri": "https://localhost:8080/"
        },
        "outputId": "31ae3159-021c-4d7f-d992-a23e30ba015a"
      },
      "execution_count": 23,
      "outputs": [
        {
          "output_type": "stream",
          "name": "stdout",
          "text": [
            "['20:15', '22:00', '23:30']\n"
          ]
        }
      ]
    }
  ]
}