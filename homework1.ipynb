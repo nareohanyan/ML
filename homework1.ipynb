{
  "nbformat": 4,
  "nbformat_minor": 0,
  "metadata": {
    "colab": {
      "provenance": [],
      "authorship_tag": "ABX9TyNUVEaBWqQyrbZH8XvGvZEU",
      "include_colab_link": true
    },
    "kernelspec": {
      "name": "python3",
      "display_name": "Python 3"
    },
    "language_info": {
      "name": "python"
    }
  },
  "cells": [
    {
      "cell_type": "markdown",
      "metadata": {
        "id": "view-in-github",
        "colab_type": "text"
      },
      "source": [
        "<a href=\"https://colab.research.google.com/github/nareohanyan/Python--homework/blob/main/homework1.ipynb\" target=\"_parent\"><img src=\"https://colab.research.google.com/assets/colab-badge.svg\" alt=\"Open In Colab\"/></a>"
      ]
    },
    {
      "cell_type": "markdown",
      "source": [
        "# Task **1**"
      ],
      "metadata": {
        "id": "_S4ZbzIlg_TF"
      }
    },
    {
      "cell_type": "markdown",
      "source": [
        "One hot summer day Pete and his friend Billy decided to buy a watermelon. They chose the biggest and the ripest one, in their opinion. After that the watermelon was weighed, and the scales showed w kilos. They rushed home, dying of thirst, and decided to divide the berry, however they faced a hard problem.\n",
        "\n",
        "Pete and Billy are great fans of even numbers, that's why they want to divide the watermelon in such a way that each of the two parts weighs even number of kilos, at the same time it is not obligatory that the parts are equal. The boys are extremely tired and want to start their meal as soon as possible, that's why you should help them and find out, if they can divide the watermelon in the way they want. For sure, each of them should get a part of positive weight.\n",
        "\n",
        "Input:\n",
        "\n",
        "The first (and the only) input line contains integer number w (1 ≤ w ≤ 100) — the weight of the watermelon bought by the boys.\n",
        "Output:\n",
        "\n",
        "Print YES, if the boys can divide the watermelon into two parts, each of them weighing even number of kilos; and NO in the opposite case.\n",
        "\n"
      ],
      "metadata": {
        "id": "wN-FsR_1g2E7"
      }
    },
    {
      "cell_type": "code",
      "source": [
        "watermelon_weight = 24\n",
        "if watermelon_weight % 2 == 0 :\n",
        "  print(\"YES\")\n",
        "else:\n",
        "  print(\"NO\")"
      ],
      "metadata": {
        "colab": {
          "base_uri": "https://localhost:8080/"
        },
        "id": "Av5h_dLcgg9_",
        "outputId": "438a0e6e-73fb-45aa-e80f-de359649e510"
      },
      "execution_count": null,
      "outputs": [
        {
          "output_type": "stream",
          "name": "stdout",
          "text": [
            "YES\n"
          ]
        }
      ]
    },
    {
      "cell_type": "markdown",
      "source": [
        "# Task **2**"
      ],
      "metadata": {
        "id": "tYAjwYXzzBSO"
      }
    },
    {
      "cell_type": "code",
      "source": [
        "n = int(input(\"Enter a number:\"))\n",
        "next = 1\n",
        "prev = 0\n",
        "temp = 0\n",
        "\n",
        "for i in range(n):\n",
        "  print(next)\n",
        "  temp = next\n",
        "  next += prev\n",
        "  prev = temp"
      ],
      "metadata": {
        "colab": {
          "base_uri": "https://localhost:8080/"
        },
        "id": "0CW94st6y-N4",
        "outputId": "ab5a3a4c-2597-40fd-ccc8-74282a6d1863"
      },
      "execution_count": null,
      "outputs": [
        {
          "output_type": "stream",
          "name": "stdout",
          "text": [
            "Enter a number:8\n",
            "1\n",
            "1\n",
            "2\n",
            "3\n",
            "5\n",
            "8\n",
            "13\n",
            "21\n"
          ]
        }
      ]
    },
    {
      "cell_type": "markdown",
      "source": [
        "# **Task 3**"
      ],
      "metadata": {
        "id": "h0kR4ZW6sdYp"
      }
    },
    {
      "cell_type": "markdown",
      "source": [
        " * Point 1: Check if a given string a palindrome (a word that is the same both backwards and forwards is called a palindrome). If it is, print \"The given string is a palindrome\".\n",
        "\n",
        "* Point 2: If the given word is not a palindrome, reverse and print it (for anyone who is already good with python, I will say that you are not allowed to use lists).\n",
        "\n",
        "You have to use loops, using [::-1] is not allowed (for syntax learning purpose).\n",
        "\n",
        "Example:\n",
        "\n",
        "Input: Tenet\n",
        "\n",
        "Output: *What's the answer here?*"
      ],
      "metadata": {
        "id": "M7HnO8oBshoG"
      }
    },
    {
      "cell_type": "code",
      "source": [
        "def is_polindrome_reverse(string):\n",
        "  is_polindrome = True\n",
        "  string_length = len(string)\n",
        "  right = string_length - 1\n",
        "  left = 0\n",
        "\n",
        "  while left < right:\n",
        "    if string[left] != string[right]:\n",
        "      is_polindrome = False\n",
        "      break\n",
        "    left += 1\n",
        "    right -= 1\n",
        "\n",
        "  if is_polindrome:\n",
        "    print(\"The given string is a palindrome\")\n",
        "  else:\n",
        "    reversed_string = ''\n",
        "    for i in string:\n",
        "      reversed_string = i + reversed_string\n",
        "    print(reversed_string)\n",
        "\n",
        "is_polindrome_reverse(\"tenet\")"
      ],
      "metadata": {
        "colab": {
          "base_uri": "https://localhost:8080/"
        },
        "id": "Rtc-I8LsquCZ",
        "outputId": "df0f499f-31b1-4fab-d554-89205fc94055"
      },
      "execution_count": null,
      "outputs": [
        {
          "output_type": "stream",
          "name": "stdout",
          "text": [
            "The given string is a palindrome\n"
          ]
        }
      ]
    },
    {
      "cell_type": "markdown",
      "source": [
        "# **Task 4**"
      ],
      "metadata": {
        "id": "thWjZqklyp90"
      }
    },
    {
      "cell_type": "markdown",
      "source": [
        "Write a program, that allows numbers to be entered and keeps track of a running total. There are some options you need to consider:\n",
        "* Entering 1 prints the number that was typed\n",
        "* Entering 2 displays the total sum of all inputed numbers\n",
        "* Entering 3 stops the program\n",
        "\n",
        "Example:\n",
        "\n",
        "(Input 1)\n",
        "\n",
        "Enter a number: (Input 54) 54\n",
        "\n",
        "(Input 1)\n",
        "\n",
        "Enter a number: (Input 46) 46\n",
        "\n",
        "(Input 2)\n",
        "\n",
        "\n",
        "The total sum is 100\n",
        "\n",
        "(Input 3)\n",
        "\n",
        "Goodbye"
      ],
      "metadata": {
        "id": "C7-gmj8dzPH1"
      }
    },
    {
      "cell_type": "code",
      "source": [
        "sum = 0\n",
        "for i in range(3):\n",
        "  num = int(input(\"Enter a number: \"))\n",
        "  sum += num\n",
        "\n",
        "  if i == 1:\n",
        "    print(\"The total sum is\", sum)\n",
        "  if i == 2:\n",
        "    print(\"Goodbye\")\n",
        "    break"
      ],
      "metadata": {
        "colab": {
          "base_uri": "https://localhost:8080/"
        },
        "id": "fX51EQdaucBI",
        "outputId": "2f3c2a4f-4350-4a46-df92-ca1360baea72"
      },
      "execution_count": null,
      "outputs": [
        {
          "output_type": "stream",
          "name": "stdout",
          "text": [
            "Enter a number: 54\n",
            "Enter a number: 46\n",
            "The total sum is 100\n",
            "Enter a number: 3\n",
            "Goodbye\n"
          ]
        }
      ]
    },
    {
      "cell_type": "markdown",
      "source": [
        "# **Homework**"
      ],
      "metadata": {
        "id": "sjIcWxuH0Weq"
      }
    },
    {
      "cell_type": "markdown",
      "source": [
        "Write a Python program that generates a multiplication table for numbers from 1 to n (where n is a positive integer, that the user inputs) and calculates the sum of the multiples for each number in the table.\n",
        "\n",
        "Rules:\n",
        "* You are only allowed to use loops and conditions.\n",
        "* You cannot use lists, sets, dictionaries, or tuples.\n",
        "* The program should print both the multiplication table and the sum of each number's multiples.\n",
        "\n",
        "Example:\n",
        "\n",
        "Input: 3\n",
        "\n",
        "Output:\n",
        "\n",
        "1 x 1 = 1\n",
        "\n",
        "1 x 2 = 2\n",
        "\n",
        "1 x 3 = 3\n",
        "\n",
        "Sum of multiples for 1 is 6\n",
        "\n",
        "2 x 1 = 2\n",
        "\n",
        "2 x 2 = 4\n",
        "\n",
        "2 x 3 = 6\n",
        "\n",
        "Sum of multiples for 2 is 12\n",
        "\n",
        "3 x 1 = 3\n",
        "\n",
        "3 x 2 = 6\n",
        "\n",
        "3 x 3 = 9\n",
        "\n",
        "Sum of multiples for 3 is 18"
      ],
      "metadata": {
        "id": "jWOidzYh0Y_C"
      }
    },
    {
      "cell_type": "code",
      "source": [
        "def multiplication_table(n):\n",
        "    for i in range(1, n + 1):\n",
        "        sum = 0\n",
        "        for j in range(1, n + 1):\n",
        "            mul = i * j\n",
        "            print(f\"{i} x {j} = {mul}\")\n",
        "            sum += mul\n",
        "        print(f\"Sum of multiples for {i} is {sum}\\n\")\n",
        "\n",
        "n = int(input(\"Enter a positive integer: \"))\n",
        "multiplication_table(n)\n"
      ],
      "metadata": {
        "colab": {
          "base_uri": "https://localhost:8080/"
        },
        "id": "sgrI11Ow0lSW",
        "outputId": "2393ad6e-48d2-4fd7-b508-cd9c040cf52b"
      },
      "execution_count": null,
      "outputs": [
        {
          "output_type": "stream",
          "name": "stdout",
          "text": [
            "Enter a positive integer: 3\n",
            "1 x 1 = 1\n",
            "1 x 2 = 2\n",
            "1 x 3 = 3\n",
            "Sum of multiples for 1 is 6\n",
            "\n",
            "2 x 1 = 2\n",
            "2 x 2 = 4\n",
            "2 x 3 = 6\n",
            "Sum of multiples for 2 is 12\n",
            "\n",
            "3 x 1 = 3\n",
            "3 x 2 = 6\n",
            "3 x 3 = 9\n",
            "Sum of multiples for 3 is 18\n",
            "\n"
          ]
        }
      ]
    }
  ]
}